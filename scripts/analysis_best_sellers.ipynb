{
 "cells": [
  {
   "cell_type": "code",
   "execution_count": 43,
   "id": "3516415f",
   "metadata": {},
   "outputs": [],
   "source": [
    "import os\n",
    "import pandas as pd\n",
    "import numpy as np\n",
    "import matplotlib.pyplot as plt"
   ]
  },
  {
   "cell_type": "code",
   "execution_count": 44,
   "id": "d700e78a",
   "metadata": {},
   "outputs": [],
   "source": [
    "# Display options\n",
    "pd.set_option('display.max_columns', None)"
   ]
  },
  {
   "cell_type": "code",
   "execution_count": null,
   "id": "eaba22b1",
   "metadata": {},
   "outputs": [],
   "source": [
    "BEST_PATH = \"data/clean_best_sellers_all_category_20251025.csv\"\n",
    "MOVERS_PATH = \"data/clean_movers_shakers_all_category_20251025.csv\"\n",
    "OUT_DIR = \"./outputs\"\n",
    "os.makedirs(OUT_DIR, exist_ok=True)"
   ]
  },
  {
   "cell_type": "code",
   "execution_count": 46,
   "id": "586bbb0b",
   "metadata": {},
   "outputs": [],
   "source": [
    "def load_data(path):\n",
    "    df = pd.read_csv(path)\n",
    "\n",
    "    numeric_cols = [\n",
    "        \"rank\",\n",
    "        \"page\",\n",
    "        \"rating\",\n",
    "        \"review_count\",\n",
    "        \"price_norm\",\n",
    "        \"move_pct\",\n",
    "        \"sales_rank_now\",\n",
    "        \"sales_rank_was\",\n",
    "        \"sales_rank_change\",\n",
    "        \"sales_rank_change_abs\",\n",
    "        \"review_density\",\n",
    "        \"norm_review_density\",\n",
    "    ]\n",
    "    for c in numeric_cols:\n",
    "        if c in df.columns:\n",
    "            df[c] = pd.to_numeric(df[c], errors=\"coerce\")\n",
    "\n",
    "    if \"price_segment\" not in df.columns:\n",
    "        df[\"price_segment\"] = \"unknown\"\n",
    "\n",
    "    df[\"cat_level_1\"] = df[\"cat_level_1\"].fillna(\"Unknown\")\n",
    "    df[\"cat_level_2\"] = df[\"cat_level_2\"].fillna(\"\")\n",
    "\n",
    "    df = df[df[\"price_segment\"].notna() & (df[\"price_segment\"].str.lower() != \"unknown\") & (df[\"price_segment\"].str.strip() != \"\")]\n",
    "\n",
    "    print(f\"Loaded {len(df):,} rows after removing unknown price_segment\")\n",
    "    return df\n",
    "\n",
    "def save_fig(fig, name):\n",
    "    path = os.path.join(OUT_DIR, name)\n",
    "    fig.savefig(path, bbox_inches=\"tight\", dpi=150)\n",
    "    print(f\"> saved: {path}\")\n",
    "\n",
    "def top_n(df, n=10, by=\"review_count\"):\n",
    "    return df.sort_values(by=by, ascending=False).head(n)"
   ]
  },
  {
   "cell_type": "code",
   "execution_count": 47,
   "id": "289d0a14",
   "metadata": {},
   "outputs": [
    {
     "name": "stdout",
     "output_type": "stream",
     "text": [
      "Loaded 3,667 rows after removing unknown price_segment\n",
      "Loaded 3,383 rows after removing unknown price_segment\n",
      "Loaded best: (3667, 17), movers: (3383, 23)\n"
     ]
    }
   ],
   "source": [
    "best = load_data(BEST_PATH)\n",
    "movers = load_data(MOVERS_PATH)\n",
    "print(f\"Loaded best: {best.shape}, movers: {movers.shape}\")"
   ]
  },
  {
   "cell_type": "markdown",
   "id": "bb5a844c",
   "metadata": {},
   "source": [
    "---"
   ]
  },
  {
   "cell_type": "markdown",
   "id": "4bd870d1",
   "metadata": {},
   "source": [
    "# ANALYSIS: Best Sellers Q1\n",
    "- \"Which price segments dominate Best Sellers? Are low-priced products winning across categories?\"\n",
    "- Price segment distribution overall and by top categories"
   ]
  },
  {
   "cell_type": "code",
   "execution_count": 48,
   "id": "fcf7e881",
   "metadata": {},
   "outputs": [],
   "source": [
    "def price_segment_distribution(df, group_col=\"cat_level_1\"):\n",
    "    overall = (\n",
    "        df[\"price_segment\"]\n",
    "        .value_counts(normalize=True)\n",
    "        .rename(\"share\")\n",
    "        .reset_index()\n",
    "        .rename(columns={\"index\": \"price_segment\"})\n",
    "    )\n",
    "    by_cat = df.groupby([group_col, \"price_segment\"]).size().reset_index(name=\"count\")\n",
    "    # compute share within category\n",
    "    total_by_cat = df.groupby(group_col).size().reset_index(name=\"cat_total\")\n",
    "    by_cat = by_cat.merge(total_by_cat, on=group_col)\n",
    "    by_cat[\"share_in_cat\"] = by_cat[\"count\"] / by_cat[\"cat_total\"]\n",
    "    return overall, by_cat"
   ]
  },
  {
   "cell_type": "code",
   "execution_count": 49,
   "id": "ee7c8748",
   "metadata": {},
   "outputs": [],
   "source": [
    "overall_seg, by_cat_seg = price_segment_distribution(best, group_col=\"cat_level_1\")\n",
    "overall_seg.to_csv(os.path.join(OUT_DIR, \"best_price_segment_overall.csv\"), index=False)\n",
    "by_cat_seg.to_csv(\n",
    "    os.path.join(OUT_DIR, \"best_price_segment_by_category.csv\"), index=False\n",
    ")"
   ]
  },
  {
   "cell_type": "code",
   "execution_count": null,
   "id": "6dc2620a",
   "metadata": {},
   "outputs": [
    {
     "name": "stdout",
     "output_type": "stream",
     "text": [
      "> saved: ./outputs\\best_price_segment_overall.png\n"
     ]
    }
   ],
   "source": [
    "fig, ax = plt.subplots(figsize=(6, 4))\n",
    "\n",
    "overall_seg.plot(kind=\"bar\", x=\"price_segment\", y=\"share\", legend=False, ax=ax, color=\"#4C72B0\")\n",
    "\n",
    "ax.set_title(\"Best Sellers — Price Segment Share (Overall)\", fontsize=12, pad=10)\n",
    "ax.set_ylabel(\"Share\", fontsize=10)\n",
    "ax.set_xlabel(\"Price Segment\", fontsize=10)\n",
    "ax.set_ylim(0, overall_seg[\"share\"].max() * 1.2)\n",
    "\n",
    "for i, v in enumerate(overall_seg[\"share\"]):\n",
    "    ax.text(\n",
    "        i, v + 0.01, f\"{v:.1%}\",\n",
    "        ha=\"center\", va=\"bottom\", fontsize=9, fontweight=\"bold\", color=\"#333\"\n",
    "    )\n",
    "\n",
    "plt.tight_layout()\n",
    "save_fig(fig, \"best_price_segment_overall.png\")\n",
    "plt.close(fig)"
   ]
  },
  {
   "cell_type": "code",
   "execution_count": 51,
   "id": "d8d26d49",
   "metadata": {},
   "outputs": [
    {
     "name": "stdout",
     "output_type": "stream",
     "text": [
      "> saved: ./outputs\\best_price_segment_by_top_cats.png\n",
      "\n",
      "Best Sellers Q1: Summary (overall)\n",
      "  price_segment     share\n",
      "0           Mid  0.489774\n",
      "1           Low  0.269975\n",
      "2          High  0.240251\n",
      "\n",
      "Saved detailed CSVs and charts to outputs/\n"
     ]
    }
   ],
   "source": [
    "# Plot: Top 12 categories by count, showing share stacked\n",
    "top_cats = best[\"cat_level_1\"].value_counts().head(12).index.tolist()\n",
    "by_cat_pivot = (\n",
    "    by_cat_seg[by_cat_seg[\"cat_level_1\"].isin(top_cats)]\n",
    "    .pivot(index=\"cat_level_1\", columns=\"price_segment\", values=\"share_in_cat\")\n",
    "    .fillna(0)\n",
    ")\n",
    "fig, ax = plt.subplots(figsize=(10, 6))\n",
    "by_cat_pivot.plot(kind=\"bar\", stacked=True, ax=ax)\n",
    "ax.set_title(\"Best Sellers — Price Segment Share by Top Categories (Top 12)\")\n",
    "ax.set_ylabel(\"Share within category\")\n",
    "ax.set_xlabel(\"Category\")\n",
    "plt.xticks(rotation=45, ha=\"right\")\n",
    "save_fig(fig, \"best_price_segment_by_top_cats.png\")\n",
    "plt.close(fig)\n",
    "\n",
    "print(\"\\nBest Sellers Q1: Summary (overall)\")\n",
    "print(overall_seg)\n",
    "print(\"\\nSaved detailed CSVs and charts to outputs/\")"
   ]
  },
  {
   "cell_type": "markdown",
   "id": "60e6afa0",
   "metadata": {},
   "source": [
    "## Notes Best Sellers Q1 :\n",
    "\n",
    "Mid-priced products clearly dominate across nearly all categories.\n",
    "Most major categories (Electronics, Beauty, Books, Clothing, Home, Kitchen, etc.) follow roughly the same pattern: half of the top sellers are mid-price.\n",
    "\n",
    "Insight\n",
    "- Best Sellers tend to cluster in the “sweet spot” of pricing — not too cheap, not too premium.\n",
    "- Low-priced items often win on volume but have thin margins.\n",
    "- High-priced products rely on niche or loyal audiences.\n",
    "\n",
    "Recommendation\n",
    "- Target mid-tier pricing for stability and scale.\n",
    "- Go low-price only in categories that support massive volume (Apps, Gift Cards).\n",
    "- If aiming for high-price, make sure your category supports perceived quality (like Collectibles or Devices)."
   ]
  },
  {
   "cell_type": "markdown",
   "id": "8bb33b62",
   "metadata": {},
   "source": [
    "---"
   ]
  },
  {
   "cell_type": "markdown",
   "id": "a09772b6",
   "metadata": {},
   "source": [
    "# ANALYSIS: Best Sellers Q2\n",
    "- \"How does review density correlate with rank?\"\n",
    "- Correlation: review_density vs rank (lower rank is better — rank 1 is top)\n",
    "- We'll compute correlation and show scatter (log-transform reviews for readability)"
   ]
  },
  {
   "cell_type": "code",
   "execution_count": 52,
   "id": "fd30d281",
   "metadata": {},
   "outputs": [
    {
     "name": "stdout",
     "output_type": "stream",
     "text": [
      "\n",
      "Best Sellers Q2: Correlation review_density vs rank -> Spearman: -0.4192, Pearson: -0.1746\n"
     ]
    }
   ],
   "source": [
    "# Filter to rows with both values\n",
    "df_corr = best.loc[best[\"review_density\"].notna() & best[\"rank\"].notna()].copy()\n",
    "# compute correlation (Spearman is robust to rank)\n",
    "spearman = df_corr[[\"review_density\", \"rank\"]].corr(method=\"spearman\").iloc[0, 1]\n",
    "pearson = df_corr[[\"review_density\", \"rank\"]].corr(method=\"pearson\").iloc[0, 1]\n",
    "print(\n",
    "    f\"\\nBest Sellers Q2: Correlation review_density vs rank -> Spearman: {spearman:.4f}, Pearson: {pearson:.4f}\"\n",
    ")"
   ]
  },
  {
   "cell_type": "code",
   "execution_count": 53,
   "id": "375814c2",
   "metadata": {},
   "outputs": [
    {
     "name": "stdout",
     "output_type": "stream",
     "text": [
      "> saved: ./outputs\\best_reviewdensity_vs_rank.png\n"
     ]
    }
   ],
   "source": [
    "# Scatter (log review_density to compress skew)\n",
    "df_corr[\"log_review_density\"] = np.log1p(df_corr[\"review_density\"])\n",
    "fig, ax = plt.subplots(figsize=(6, 4))\n",
    "ax.scatter(df_corr[\"log_review_density\"], df_corr[\"rank\"], alpha=0.6, s=8)\n",
    "ax.set_xlabel(\"log(1 + review_density)\")\n",
    "ax.set_ylabel(\"rank (lower is better)\")\n",
    "ax.set_title(\"Best Sellers: log(review_density) vs rank\")\n",
    "save_fig(fig, \"best_reviewdensity_vs_rank.png\")\n",
    "plt.close(fig)"
   ]
  },
  {
   "cell_type": "code",
   "execution_count": 54,
   "id": "98f200f5",
   "metadata": {},
   "outputs": [
    {
     "name": "stdout",
     "output_type": "stream",
     "text": [
      "Saved rank_by_review_density_quantile.csv\n"
     ]
    },
    {
     "name": "stderr",
     "output_type": "stream",
     "text": [
      "C:\\Users\\nikob\\AppData\\Local\\Temp\\ipykernel_29480\\3359384199.py:6: FutureWarning: The default of observed=False is deprecated and will be changed to True in a future version of pandas. Pass observed=False to retain current behavior or observed=True to adopt the future default and silence this warning.\n",
      "  df_corr.groupby(\"density_q\")[\"rank\"]\n"
     ]
    }
   ],
   "source": [
    "# Compute median rank per quantile of norm_review_density\n",
    "df_corr[\"density_q\"] = pd.qcut(\n",
    "    df_corr[\"norm_review_density\"].fillna(0), q=5, duplicates=\"drop\"\n",
    ")\n",
    "rank_by_q = (\n",
    "    df_corr.groupby(\"density_q\")[\"rank\"]\n",
    "    .median()\n",
    "    .reset_index()\n",
    "    .rename(columns={\"rank\": \"median_rank\"})\n",
    ")\n",
    "rank_by_q.to_csv(\n",
    "    os.path.join(OUT_DIR, \"best_rank_by_review_density_quantile.csv\"), index=False\n",
    ")\n",
    "print(\"Saved rank_by_review_density_quantile.csv\")"
   ]
  },
  {
   "cell_type": "code",
   "execution_count": 55,
   "id": "1cf210cb",
   "metadata": {},
   "outputs": [
    {
     "data": {
      "image/png": "[encoded data removed]",
      "text/plain": [
       "<Figure size 800x500 with 1 Axes>"
      ]
     },
     "metadata": {},
     "output_type": "display_data"
    }
   ],
   "source": [
    "plt.figure(figsize=(8, 5))\n",
    "bars = plt.bar(\n",
    "    rank_by_q[\"density_q\"].astype(str),\n",
    "    rank_by_q[\"median_rank\"],\n",
    "    edgecolor=\"black\",\n",
    ")\n",
    "\n",
    "# Label each bar with its value\n",
    "for bar in bars:\n",
    "    height = bar.get_height()\n",
    "    plt.text(\n",
    "        bar.get_x() + bar.get_width() / 2,\n",
    "        height + 1,\n",
    "        f\"{height:.0f}\",\n",
    "        ha=\"center\",\n",
    "        va=\"bottom\",\n",
    "        fontsize=10,\n",
    "    )\n",
    "\n",
    "# Titles and labels\n",
    "plt.title(\"Median Rank by Review Density Quantile\", fontsize=13, pad=15)\n",
    "plt.xlabel(\"Normalized Review Density Quantile\")\n",
    "plt.ylabel(\"Median Rank (lower is better)\")\n",
    "plt.gca().invert_yaxis()  # Because lower rank = better\n",
    "plt.grid(axis=\"y\", linestyle=\"--\", alpha=0.5)\n",
    "plt.tight_layout()\n",
    "\n",
    "plt.show()"
   ]
  },
  {
   "cell_type": "markdown",
   "id": "f2850f88",
   "metadata": {},
   "source": [
    "## Notes Best Sellers Q2 :\n",
    "\n",
    "Moderate negative correlation → products with denser reviews tend to rank higher (closer to #1).\n",
    "\n",
    "| Review Density Quantile | Median Rank |\n",
    "| ----------------------- | ----------- |\n",
    "| Lowest 20%              | 68          |\n",
    "| ...                     | ...         |\n",
    "| Highest 20%             | **15**      |\n",
    "\n",
    "Insight\n",
    "- Review activity clearly matters. The more reviews a product gets, the better it tends to rank — but only up to a point.\n",
    "- After a certain level, extra reviews don’t move the needle much (diminishing returns).\n",
    "\n",
    "Recommendation\n",
    "- Focus on building early review momentum — especially right after launch.\n",
    "- Keep reviews fresh and recent, since Amazon’s algorithm values ongoing engagement more than old volume."
   ]
  },
  {
   "cell_type": "markdown",
   "id": "23ef3fec",
   "metadata": {},
   "source": [
    "---"
   ]
  },
  {
   "cell_type": "markdown",
   "id": "5642c2b2",
   "metadata": {},
   "source": [
    "# ANALYSIS: Movers and Shakers Q1\n",
    "- \"Which categories show strongest momentum and price ranges driving fastest movers?\"\n",
    "- Which categories show strongest momentum? (use sales_rank_change and move_pct)\n",
    "- Also: what price segments drive fastest movers?"
   ]
  },
  {
   "cell_type": "code",
   "execution_count": 56,
   "id": "c129c81d",
   "metadata": {},
   "outputs": [],
   "source": [
    "def movers_momentum_summary(movers_df, top_k_categories=12):\n",
    "    # For each category, compute mean/median move_pct and sum of positive movements\n",
    "    df = movers_df.copy()\n",
    "    df[\"sales_rank_change\"] = pd.to_numeric(df[\"sales_rank_change\"], errors=\"coerce\")\n",
    "    df[\"move_pct\"] = pd.to_numeric(df[\"move_pct\"], errors=\"coerce\")\n",
    "    agg = (\n",
    "        df.groupby(\"cat_level_1\")\n",
    "        .agg(\n",
    "            n_items=(\"asin\", \"nunique\"),\n",
    "            median_move_pct=(\"move_pct\", \"median\"),\n",
    "            mean_move_pct=(\"move_pct\", \"mean\"),\n",
    "            median_sales_rank_change=(\"sales_rank_change\", \"median\"),\n",
    "            mean_sales_rank_change=(\"sales_rank_change\", \"mean\"),\n",
    "            up_count=(\n",
    "                (lambda x: (x[\"sales_rank_change\"] > 0).sum())\n",
    "                if False\n",
    "                else (\"sales_rank_change\", lambda s: (s > 0).sum())\n",
    "            ),\n",
    "        )\n",
    "        .reset_index()\n",
    "    )\n",
    "    # sort by median_sales_rank_change\n",
    "    agg = agg.sort_values(\"median_sales_rank_change\", ascending=False)\n",
    "    return agg"
   ]
  },
  {
   "cell_type": "code",
   "execution_count": 57,
   "id": "756a05a6",
   "metadata": {},
   "outputs": [
    {
     "name": "stdout",
     "output_type": "stream",
     "text": [
      "\n",
      "Movers Q1: Top categories by median sales_rank_change (saved CSV) — top 8:\n",
      "                   cat_level_1  n_items  median_move_pct  mean_move_pct  \\\n",
      "32         Sports Collectibles       93            110.5     181.738636   \n",
      "14           Collectible Coins       96            150.0     194.800000   \n",
      "23                Kindle Store      100             87.0     143.033333   \n",
      "30                    Software       96             76.0     117.879121   \n",
      "10                         CDs      100             39.0      67.835052   \n",
      "25                      Movies      100             29.0      99.135802   \n",
      "11                      Camera       97             24.0      28.468750   \n",
      "2                   Appliances       99             24.5      32.436170   \n",
      "20           Handmade Products      100             18.0      24.816327   \n",
      "13                    Clothing       99             20.0      22.848485   \n",
      "3                         Apps      100             20.0      29.302083   \n",
      "34                        Toys      100             15.0      29.391753   \n",
      "1               Amazon Renewed      100             13.0      16.181818   \n",
      "26         Musical Instruments      100             10.0      15.818182   \n",
      "9                        Books      100             14.0      42.470000   \n",
      "15                   Computers       98             12.0      15.159574   \n",
      "28                       Patio       99             11.0      16.360825   \n",
      "31                      Sports       99             12.0      16.957895   \n",
      "5                Audible Books      100             13.0      26.424242   \n",
      "35                 Video Games      100             10.0      20.515152   \n",
      "22                        Home      100              9.0      12.663265   \n",
      "6                   Automotive       99              8.0      12.505376   \n",
      "33                       Tools       98              7.0      19.666667   \n",
      "4                         Arts      100              8.0      20.727273   \n",
      "24                     Kitchen      100              8.0      17.625000   \n",
      "27             Office Products      100              7.0       9.343750   \n",
      "12                 Cell Phones       97              8.0      13.802469   \n",
      "8                       Beauty       99              6.0      15.918367   \n",
      "0               Amazon Devices       45              6.0      13.666667   \n",
      "16                 Electronics       98              6.0      16.767677   \n",
      "18                  Gift Cards       29              5.0       4.758621   \n",
      "29                Pet Supplies       97              4.0       8.372340   \n",
      "7                         Baby      100              5.0       6.585859   \n",
      "19                     Grocery       73              6.0       9.164384   \n",
      "21                      Health      100              4.0       7.427083   \n",
      "17  Entertainment Collectibles       69              NaN            NaN   \n",
      "\n",
      "    median_sales_rank_change  mean_sales_rank_change  up_count  \n",
      "32                     249.0              285.597403        77  \n",
      "14                     245.0              271.149254        67  \n",
      "23                     135.0              171.690909        55  \n",
      "30                     134.0              194.584416        77  \n",
      "10                      75.0              110.489583        96  \n",
      "25                      55.0              105.453333        75  \n",
      "11                      53.0               66.625000        96  \n",
      "2                       48.5               70.765957        94  \n",
      "20                      42.0               58.204082        98  \n",
      "13                      38.0               48.656566        99  \n",
      "3                       37.0               48.125000        96  \n",
      "34                      32.0               46.030928        97  \n",
      "1                       30.0               38.060606        99  \n",
      "26                      25.0               31.090909        99  \n",
      "9                       24.0               48.090909        99  \n",
      "15                      23.0               31.010638        94  \n",
      "28                      22.0               32.505155        97  \n",
      "31                      21.0               29.705263        95  \n",
      "5                       21.0               45.686869        99  \n",
      "35                      20.0               42.767677        99  \n",
      "22                      19.0               26.704082        98  \n",
      "6                       18.0               24.387097        93  \n",
      "33                      17.0               40.791667        96  \n",
      "4                       17.0               28.316327        98  \n",
      "24                      17.0               34.718750        96  \n",
      "27                      16.0               22.062500        96  \n",
      "12                      16.0               28.654321        81  \n",
      "8                       14.0               24.367347        98  \n",
      "0                       13.0               15.200000        45  \n",
      "16                      13.0               34.171717        99  \n",
      "18                      12.0               12.724138        29  \n",
      "29                      10.0               17.191489        94  \n",
      "7                       10.0               13.767677        99  \n",
      "19                       9.0               16.369863        73  \n",
      "21                       9.0               15.531250        96  \n",
      "17                       NaN                     NaN         0  \n"
     ]
    }
   ],
   "source": [
    "magg = movers_momentum_summary(movers)\n",
    "magg.to_csv(os.path.join(OUT_DIR, \"movers_category_momentum_summary.csv\"), index=False)\n",
    "print(\"\\nMovers Q1: Top categories by median sales_rank_change (saved CSV) — top 8:\")\n",
    "print(magg)"
   ]
  },
  {
   "cell_type": "code",
   "execution_count": 58,
   "id": "8e957a1f",
   "metadata": {},
   "outputs": [
    {
     "name": "stdout",
     "output_type": "stream",
     "text": [
      "\n",
      "Movers Q1: sales_rank_change by price_segment\n",
      "  price_segment  n_items  median_sales_rank_change  mean_sales_rank_change\n",
      "0          High      818                      25.0               58.906542\n",
      "2           Mid     1605                      24.0               55.614618\n",
      "1           Low      926                      22.0               58.016568\n"
     ]
    }
   ],
   "source": [
    "# Which price segments have largest average sales_rank_change?\n",
    "by_price = (\n",
    "    movers.groupby(\"price_segment\")\n",
    "    .agg(\n",
    "        n_items=(\"asin\", \"nunique\"),\n",
    "        median_sales_rank_change=(\"sales_rank_change\", \"median\"),\n",
    "        mean_sales_rank_change=(\"sales_rank_change\", \"mean\"),\n",
    "    )\n",
    "    .reset_index()\n",
    "    .sort_values(\"median_sales_rank_change\", ascending=False)\n",
    ")\n",
    "by_price.to_csv(os.path.join(OUT_DIR, \"movers_by_price_segment.csv\"), index=False)\n",
    "print(\"\\nMovers Q1: sales_rank_change by price_segment\")\n",
    "print(by_price)"
   ]
  },
  {
   "cell_type": "code",
   "execution_count": 59,
   "id": "1f0bc501",
   "metadata": {},
   "outputs": [
    {
     "name": "stdout",
     "output_type": "stream",
     "text": [
      "> saved: ./outputs\\movers_sales_rank_change_by_price_segment.png\n"
     ]
    },
    {
     "name": "stderr",
     "output_type": "stream",
     "text": [
      "C:\\Users\\nikob\\AppData\\Local\\Temp\\ipykernel_29480\\3468046221.py:8: MatplotlibDeprecationWarning: The 'labels' parameter of boxplot() has been renamed 'tick_labels' since Matplotlib 3.9; support for the old name will be dropped in 3.11.\n",
      "  ax.boxplot(groups, labels=labels, showfliers=False)\n"
     ]
    }
   ],
   "source": [
    "# Plot: boxplot of sales_rank_change by price_segment (converted to matplotlib)\n",
    "fig, ax = plt.subplots(figsize=(6, 4))\n",
    "groups = [\n",
    "    movers.loc[movers[\"price_segment\"] == seg, \"sales_rank_change\"].dropna()\n",
    "    for seg in movers[\"price_segment\"].unique()\n",
    "]\n",
    "labels = list(movers[\"price_segment\"].unique())\n",
    "ax.boxplot(groups, labels=labels, showfliers=False)\n",
    "ax.set_title(\"Movers: sales_rank_change by price_segment\")\n",
    "ax.set_ylabel(\"sales_rank_change (positive = improved)\")\n",
    "save_fig(fig, \"movers_sales_rank_change_by_price_segment.png\")\n",
    "plt.close(fig)"
   ]
  },
  {
   "cell_type": "markdown",
   "id": "238c9a6d",
   "metadata": {},
   "source": [
    "## Notes Movers and Shakers Q1 :\n",
    "\n",
    "Categories with the Biggest Momentum:\n",
    "| Category                | Median Rank Change | Mean Move % | Insight                                        |\n",
    "| ----------------------- | ------------------ | ----------- | ---------------------------------------------- |\n",
    "| **Sports Collectibles** | **+249**           | +182%       | Likely tied to sports events or seasonal hype. |\n",
    "| **Collectible Coins**   | +245               | +195%       | Investment-type items, highly volatile.        |\n",
    "| **Kindle Store**        | +135               | +143%       | Possibly driven by promotions or new releases. |\n",
    "| **Software**            | +134               | +118%       | New launches or updates.                       |\n",
    "| **CDs / Movies**        | 55-75              | ~100%       | Nostalgia and bundling effects.                |\n",
    "\n",
    "Meanwhile, everyday categories like Home, Baby, Health stayed stable (rank change <10).\n",
    "\n",
    "Price Segment Performance:\n",
    "| Segment | Median Rank Change | Mean Rank Change |\n",
    "| ------- | ------------------ | ---------------- |\n",
    "| Low     | 22                 | 58.0             |\n",
    "| Mid     | 24                 | 55.6             |\n",
    "| High    | 25                 | 58.9             |\n",
    "\n",
    "Momentum isn’t really price-driven — it’s context-driven (promotion, hype, timing, trends).\n",
    "\n",
    "Insight\n",
    "- Categories with emotional or hype-driven appeal (collectibles, sports, fandom, digital goods) move fastest.\n",
    "- Functional goods (home, health, tools) are more stable.\n",
    "\n",
    "Recommendation\n",
    "- Track these “momentum” categories weekly — they’re ideal for short-term arbitrage or viral tracking.\n",
    "- Use sales_rank_change and move_pct as heat indicators for what’s trending."
   ]
  },
  {
   "cell_type": "markdown",
   "id": "92e19601",
   "metadata": {},
   "source": [
    "---"
   ]
  },
  {
   "cell_type": "markdown",
   "id": "4bb53df7",
   "metadata": {},
   "source": [
    "# ANALYSIS: Movers and Shakers Q2\n",
    "- \"Are 'underdogs' (low review density) climbing fast?\"\n",
    "- Are lower-review-density products more likely to move up?\n",
    "- We'll compare distribution of norm_review_density for items that moved up vs others"
   ]
  },
  {
   "cell_type": "code",
   "execution_count": 60,
   "id": "091fb768",
   "metadata": {},
   "outputs": [],
   "source": [
    "m = movers.copy()\n",
    "m[\"moved_up\"] = m[\"sales_rank_change\"] > 0\n",
    "df_up = m.loc[m[\"moved_up\"], :]\n",
    "df_not_up = m.loc[~m[\"moved_up\"], :]\n",
    "\n",
    "summary_up = df_up[\"norm_review_density\"].describe()\n",
    "summary_not = df_not_up[\"norm_review_density\"].describe()"
   ]
  },
  {
   "cell_type": "code",
   "execution_count": 61,
   "id": "ab1cb8fc",
   "metadata": {},
   "outputs": [
    {
     "name": "stdout",
     "output_type": "stream",
     "text": [
      "\n",
      "Movers Q2: median norm_review_density — moved_up vs not:\n",
      "moved_up median: 0.01251439838415355 not moved_up median: 0.0268618467949906\n"
     ]
    }
   ],
   "source": [
    "pd.DataFrame(\n",
    "    {\n",
    "        \"moved_up\": [\"yes\", \"no\"],\n",
    "        \"count\": [len(df_up), len(df_not_up)],\n",
    "        \"median_norm_review_density\": [\n",
    "            df_up[\"norm_review_density\"].median(),\n",
    "            df_not_up[\"norm_review_density\"].median(),\n",
    "        ],\n",
    "        \"mean_norm_review_density\": [\n",
    "            df_up[\"norm_review_density\"].mean(),\n",
    "            df_not_up[\"norm_review_density\"].mean(),\n",
    "        ],\n",
    "    }\n",
    ").to_csv(\n",
    "    os.path.join(OUT_DIR, \"movers_norm_review_density_movement_summary.csv\"),\n",
    "    index=False,\n",
    ")\n",
    "\n",
    "print(\"\\nMovers Q2: median norm_review_density — moved_up vs not:\")\n",
    "print(\n",
    "    \"moved_up median:\",\n",
    "    df_up[\"norm_review_density\"].median(),\n",
    "    \"not moved_up median:\",\n",
    "    df_not_up[\"norm_review_density\"].median(),\n",
    ")"
   ]
  },
  {
   "cell_type": "code",
   "execution_count": 62,
   "id": "39af419a",
   "metadata": {},
   "outputs": [
    {
     "name": "stdout",
     "output_type": "stream",
     "text": [
      "> saved: ./outputs\\movers_norm_review_density_movedup_hist.png\n"
     ]
    }
   ],
   "source": [
    "# Plot distribution (violin-like using hist overlay)\n",
    "fig, ax = plt.subplots(figsize=(7, 4))\n",
    "ax.hist(df_up[\"norm_review_density\"].dropna(), bins=40, alpha=0.6, label=\"moved_up\")\n",
    "ax.hist(\n",
    "    df_not_up[\"norm_review_density\"].dropna(), bins=40, alpha=0.6, label=\"not_moved_up\"\n",
    ")\n",
    "ax.set_xlabel(\"norm_review_density\")\n",
    "ax.set_ylabel(\"count\")\n",
    "ax.set_title(\"Movers: norm_review_density distribution — moved_up vs not\")\n",
    "ax.legend()\n",
    "save_fig(fig, \"movers_norm_review_density_movedup_hist.png\")\n",
    "plt.close(fig)"
   ]
  },
  {
   "cell_type": "code",
   "execution_count": 63,
   "id": "f39f483d",
   "metadata": {},
   "outputs": [
    {
     "name": "stdout",
     "output_type": "stream",
     "text": [
      "\n",
      "Movers Q2: prop moved_up in low-density bucket (<=25th): 0.947\n",
      "Movers Q2: prop moved_up in >25th: 0.931\n"
     ]
    }
   ],
   "source": [
    "# Proportion of moved_up within low density bucket\n",
    "# define low density as <= 25th percentile across movers\n",
    "pct25 = m[\"norm_review_density\"].quantile(0.25)\n",
    "low_bucket = m.loc[m[\"norm_review_density\"] <= pct25]\n",
    "prop_low_moved_up = (low_bucket[\"sales_rank_change\"] > 0).mean()\n",
    "prop_high_moved_up = (\n",
    "    m.loc[m[\"norm_review_density\"] > pct25][\"sales_rank_change\"] > 0\n",
    ").mean()\n",
    "print(\n",
    "    f\"\\nMovers Q2: prop moved_up in low-density bucket (<=25th): {prop_low_moved_up:.3f}\"\n",
    ")\n",
    "print(f\"Movers Q2: prop moved_up in >25th: {prop_high_moved_up:.3f}\")"
   ]
  },
  {
   "cell_type": "markdown",
   "id": "944301ce",
   "metadata": {},
   "source": [
    "## Notes Movers and Shakers Q2 :\n",
    "\n",
    "| Group        | Median Review Density |\n",
    "| ------------ | --------------------- |\n",
    "| **Moved Up** | **0.0125**            |\n",
    "| Not Moved Up | 0.0269                |\n",
    "\n",
    "94.7% of items in the lowest-review quartile still moved up, compared to 93.1% in the rest.\n",
    "\n",
    "Insight\n",
    "- New or low-review products are still capable of fast rank jumps.\n",
    "- Amazon’s algorithm rewards recent activity and engagement — not just legacy reputation.\n",
    "\n",
    "Recommendation\n",
    "- Even with few reviews, a product can take off if early buyers engage quickly.\n",
    "- Plan a strong launch push (clicks, conversions, reviews) within the first few days."
   ]
  },
  {
   "cell_type": "markdown",
   "id": "3edcb5c4",
   "metadata": {},
   "source": [
    "---"
   ]
  },
  {
   "cell_type": "markdown",
   "id": "5fb15fc9",
   "metadata": {},
   "source": [
    "# Overall Summary\n",
    "\n",
    "| Area          | Key Takeaway                                               | Business Meaning                                           |\n",
    "| ------------- | ---------------------------------------------------------- | ---------------------------------------------------------- |\n",
    "| **Pricing**   | Mid-tier dominates across categories.                      | Aim for balanced pricing — not too cheap, not too premium. |\n",
    "| **Reviews**   | More reviews → better rank (but nonlinear).                | Encourage early reviews, maintain freshness.               |\n",
    "| **Momentum**  | Sports, Collectibles, Kindle, Software are rising fastest. | Focus on hype-driven and trending categories.              |\n",
    "| **Underdogs** | New products with low reviews can still spike.             | Early engagement matters more than legacy metrics.         |\n",
    "\n",
    "\n",
    "# Strategic Recommendations\n",
    "\n",
    "Price Smartly\n",
    "- Stay around the mid-price band for most categories.\n",
    "- Use discounts only to trigger initial visibility — not as a long-term anchor.\n",
    "\n",
    "Review Strategy\n",
    "- Kickstart review campaigns right after launch.\n",
    "- Keep review flow steady — recency > total count.\n",
    "\n",
    "Momentum Tracking\n",
    "- Build a “Category Momentum” dashboard using sales_rank_change + move_pct.\n",
    "- Flag categories with sudden upward trends (great for premium insight subscriptions).\n",
    "\n",
    "Launch Planning\n",
    "- Don’t be afraid of low-review listings — Amazon rewards fast traction.\n",
    "- Focus your early marketing on engagement bursts (CTR, purchases, reviews)."
   ]
  },
  {
   "cell_type": "markdown",
   "id": "5058e02f",
   "metadata": {},
   "source": [
    "---"
   ]
  }
 ],
 "metadata": {
  "kernelspec": {
   "display_name": "Python 3",
   "language": "python",
   "name": "python3"
  },
  "language_info": {
   "codemirror_mode": {
    "name": "ipython",
    "version": 3
   },
   "file_extension": ".py",
   "mimetype": "text/x-python",
   "name": "python",
   "nbconvert_exporter": "python",
   "pygments_lexer": "ipython3",
   "version": "3.13.4"
  }
 },
 "nbformat": 4,
 "nbformat_minor": 5
}
